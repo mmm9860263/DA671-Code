{
  "nbformat": 4,
  "nbformat_minor": 0,
  "metadata": {
    "colab": {
      "name": "DA671CourseProject.ipynb",
      "provenance": [],
      "collapsed_sections": []
    },
    "kernelspec": {
      "name": "python3",
      "display_name": "Python 3"
    },
    "language_info": {
      "name": "python"
    }
  },
  "cells": [
    {
      "cell_type": "code",
      "execution_count": null,
      "metadata": {
        "id": "JjViRMKFQwHc"
      },
      "outputs": [],
      "source": [
        "# import modules \n",
        "import numpy as np \n",
        "import matplotlib.pyplot as plt "
      ]
    },
    {
      "cell_type": "code",
      "source": [
        "class ucb_markovian_bandit:\n",
        "    def __init__(self, p1, q1, p2, q2):\n",
        "        # Initialization\n",
        "\n",
        "        # Number of arms\n",
        "        self.k = 2\n",
        "        # Number of iterations\n",
        "        self.iters = 100000\n",
        "        # Step count\n",
        "        self.n = 1\n",
        "        # Step count for each arm\n",
        "        self.k_n = np.ones(k)\n",
        "        # parameters for both arms\n",
        "        self.p1=p1\n",
        "        self.q1=q1\n",
        "        self.prev_state1=0\n",
        "        self.curr_state1=1\n",
        "        self.state0_count1=0\n",
        "        self.state1_count1=1\n",
        "        self.p2=p2\n",
        "        self.q2=q2\n",
        "        self.prev_state2=0\n",
        "        self.curr_state2=1\n",
        "        self.state0_count2=0\n",
        "        self.state1_count2=1\n",
        "        self.p= np.array([self.p1, self.p2])\n",
        "        self.q= np.array([self.q1, self.q2])\n",
        "        self.prev_state= np.array([self.prev_state1, self.prev_state2])\n",
        "        self.curr_state= np.array([self.curr_state1, self.curr_state2])\n",
        "        self.state0_count= np.array([self.state0_count1, self.state0_count2])\n",
        "        self.state1_count= np.array([self.state1_count1, self.state1_count2])\n",
        "        self.state01_count= np.array([1, 1])\n",
        "        self.state11_count= np.array([0, 0])\n",
        "        self.arm1= np.array([self.p1, self.q1, self.prev_state1, self.curr_state1, self.state0_count1, self.state1_count1])\n",
        "        self.arm2= np.array([self.p2, self.q2, self.prev_state2, self.curr_state2, self.state0_count2, self.state1_count2])\n",
        "        # Mean reward for each arm\n",
        "        self.q_k = np.array([self.p1/(1-self.q1+self.p1),self.p2/(1-self.q2+self.p2)])\n",
        "        self.q_k_up = np.array([0, 0])\n",
        "\n",
        "        # Total mean reward\n",
        "        self.total_reward = 0\n",
        "        self.reward = np.zeros(iters)\n",
        "        self.regret = np.zeros(iters)\n",
        "        # total reward calculation\n",
        "        self.reward_sum=0\n",
        "        \n",
        "        \n",
        "        \n",
        "    def pull(self):\n",
        "        # Select action according to UCB Criteria\n",
        "        a = np.argmax(self.q_k_up + np.sqrt(2*(np.log(self.n)) / self.k_n))\n",
        "        if(self.curr_state[a]==0):\n",
        "          self.prev_state[a]= self.curr_state[a]\n",
        "          if np.random.uniform(0,1)<self.p[a]:\n",
        "            self.curr_state[a]=1\n",
        "            self.state1_count[a] += 1\n",
        "            reward=1\n",
        "          else:\n",
        "            self.curr_state[a]=0\n",
        "            self.state0_count[a] += 1\n",
        "            reward=0\n",
        "        else:\n",
        "          self.prev_state[a]= self.curr_state[a]\n",
        "          if np.random.uniform(0,1)<self.q[a]:\n",
        "            self.curr_state[a]=1\n",
        "            self.state1_count[a] += 1\n",
        "            reward=1\n",
        "          else:\n",
        "            self.curr_state[a]=0\n",
        "            self.state0_count[a] += 1\n",
        "            reward=0\n",
        "\n",
        "\n",
        "        # Update state count\n",
        "        if (self.prev_state[a]==0) and (self.curr_state[a]==1):\n",
        "          self.state01_count[a] += 1\n",
        "        elif (self.prev_state[a]==1) and (self.curr_state[a]==1):\n",
        "          self.state11_count[a] += 1\n",
        "        # Update counts\n",
        "        self.n += 1\n",
        "        self.k_n[a] += 1\n",
        "        # Update p and q\n",
        "        self.p[a]= self.state01_count[a]/self.state0_count[a]\n",
        "        self.q[a]= self.state11_count[a]/self.state1_count[a]\n",
        "        # Update total mean reward\n",
        "        #self.total_reward += reward\n",
        "        # Update results for mean reward for each arm\n",
        "        #self.q_k[a] = self.q_k[a] + (reward - self.q_k[a]) / self.k_n[a]\n",
        "        self.q_k[a] = (self.q_k[a]*(self.k_n[a]-1) +reward ) / self.k_n[a]\n",
        "        self.q_k_up = np.array([self.p[0]/(1-self.q[0]+self.p[0]),self.p[1]/(1-self.q[1]+self.p[1])])\n",
        "        rew=0\n",
        "        if a==0:\n",
        "          rew = self.p1/(1-self.q1+self.p1)\n",
        "        else:\n",
        "          rew = self.p2/(1-self.q2+self.p2)\n",
        "        self.total_reward += rew\n",
        "        \n",
        "    def run(self):\n",
        "        for i in range(self.iters):\n",
        "            self.pull()\n",
        "            #self.reward[i] = self.mean_reward\n",
        "            uk=max(self.p1/(1-self.q1+self.p1),self.p2/(1-self.q2+self.p2))\n",
        "            self.regret[i] = i*uk - self.total_reward\n",
        "            #self.reward_sum += self.reward[i]\n",
        "            \n",
        "    "
      ],
      "metadata": {
        "id": "7uuXR2o9Q_Cx"
      },
      "execution_count": 39,
      "outputs": []
    },
    {
      "cell_type": "code",
      "source": [
        "k = 2 \n",
        "iters = 100000\n",
        "p1=0.3\n",
        "q1=0.5\n",
        "p2=0.1\n",
        "q2=0.6\n",
        "\n",
        "ucb_rewards = np.zeros(iters)\n",
        "ucb_regret = np.zeros(iters)\n",
        "\n",
        "\n",
        "\n",
        "\n",
        "ucb = ucb_markovian_bandit(p1, q1, p2, q2)\n",
        "ucb.run()\n",
        "uk=max(ucb.p1/(1-ucb.q1+ucb.p1),ucb.p2/(1-ucb.q2+ucb.p2))\n",
        "ucb_rewards = ucb.reward\n",
        "ucb_regret = ucb.regret\n",
        "ucb_k= ucb.k_n\n",
        "print(ucb_k[0])\n",
        "print(ucb_k[1])\n",
        "\n",
        "# regret over n rounds for bernoulli bandit   \n",
        "plt.figure(figsize=(12,8))\n",
        "x= np.arange(start=1, stop=iters+1, step=1)\n",
        "#y = x*uk - ucb.reward_sum\n",
        "plt.scatter(x, ucb_regret)\n",
        "\n",
        "\n",
        "plt.legend(bbox_to_anchor=(1.2, 0.5))\n",
        "plt.xlabel(\"Number of rounds\")\n",
        "plt.ylabel(\"Regret\")\n",
        "plt.title(\"UCB algorithm for markovian rewards taking \\u03bc1 as \")\n",
        "plt.show()"
      ],
      "metadata": {
        "colab": {
          "base_uri": "https://localhost:8080/",
          "height": 600
        },
        "id": "5JqFiavORL2r",
        "outputId": "76589c40-4301-46e7-f734-5ed6b63ce81f"
      },
      "execution_count": 40,
      "outputs": [
        {
          "output_type": "stream",
          "name": "stderr",
          "text": [
            "/usr/local/lib/python3.7/dist-packages/ipykernel_launcher.py:83: RuntimeWarning: divide by zero encountered in long_scalars\n",
            "/usr/local/lib/python3.7/dist-packages/ipykernel_launcher.py:90: RuntimeWarning: invalid value encountered in double_scalars\n",
            "No handles with labels found to put in legend.\n"
          ]
        },
        {
          "output_type": "stream",
          "name": "stdout",
          "text": [
            "99702.0\n",
            "300.0\n"
          ]
        },
        {
          "output_type": "display_data",
          "data": {
            "text/plain": [
              "<Figure size 864x576 with 1 Axes>"
            ],
            "image/png": "[encoded data removed]"
          },
          "metadata": {
            "needs_background": "light"
          }
        }
      ]
    },
    {
      "cell_type": "code",
      "source": [
        "np.random.uniform(0,1)"
      ],
      "metadata": {
        "id": "AUz1c6fzRPwc",
        "colab": {
          "base_uri": "https://localhost:8080/"
        },
        "outputId": "4af9f232-e4bb-4b4c-db41-51d51d26b51d"
      },
      "execution_count": null,
      "outputs": [
        {
          "output_type": "execute_result",
          "data": {
            "text/plain": [
              "0.6934953768085894"
            ]
          },
          "metadata": {},
          "execution_count": 7
        }
      ]
    },
    {
      "cell_type": "code",
      "source": [
        ""
      ],
      "metadata": {
        "id": "oxEJATlJmnOU"
      },
      "execution_count": null,
      "outputs": []
    }
  ]
}